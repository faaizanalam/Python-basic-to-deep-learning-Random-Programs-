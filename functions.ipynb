{
 "cells": [
  {
   "cell_type": "markdown",
   "metadata": {},
   "source": [
    "## High-level functions: filter(), map(), & reduce()\n",
    "### Filter() \n",
    "a higher-order function, syntax: filter(function, sequence)\n",
    "\n",
    "applies function to each element of sequence and returns elements for which the function returns true\n",
    "filter returns a subset of sequence\n",
    "to generate the actual list, we need to apply list()\n"
   ]
  },
  {
   "cell_type": "code",
   "execution_count": 2,
   "metadata": {},
   "outputs": [
    {
     "data": {
      "text/plain": [
       "False"
      ]
     },
     "execution_count": 2,
     "metadata": {},
     "output_type": "execute_result"
    }
   ],
   "source": [
    "# Check if a number is divisible by 2\n",
    "def divBY2(num):\n",
    "    return num % 2 == 0\n",
    "divBY2(33) "
   ]
  },
  {
   "cell_type": "code",
   "execution_count": 3,
   "metadata": {},
   "outputs": [
    {
     "data": {
      "text/plain": [
       "True"
      ]
     },
     "execution_count": 3,
     "metadata": {},
     "output_type": "execute_result"
    }
   ],
   "source": [
    "# Check if a number is even\n",
    "def IsEven(num):\n",
    "    return num % 2 == 0\n",
    "IsEven(4)"
   ]
  },
  {
   "cell_type": "code",
   "execution_count": 4,
   "metadata": {},
   "outputs": [],
   "source": [
    "# Check whether x's first letter is capital or not\n",
    "def IsXCap(x):\n",
    "    return 'A'<= x[0] >= 'Z'\n"
   ]
  },
  {
   "cell_type": "code",
   "execution_count": 14,
   "metadata": {},
   "outputs": [
    {
     "name": "stdout",
     "output_type": "stream",
     "text": [
      "[2, 4, 6, 8, 10, 12, 14, 16, 18, 20]\n",
      "[0, 2, 4, 6, 8, 10, 12, 14, 16, 18, 20, 22, 24, 26, 28, 30]\n",
      "['are']\n",
      "['e', 'l', 'l', 'o', 'h', 'o', 'w', 'a', 'r', 'e', 'y', 'o', 'u']\n"
     ]
    }
   ],
   "source": [
    "# Using filter function to apply a sequence of values\n",
    "print(list(filter(divBY2,range(1,21))))\n",
    "print(list(filter(IsEven,range(0,32))))\n",
    "print(list(filter(IsXCap, [\"Hello\",\"How\",\"are\",\"You\"])))\n",
    "print(list(filter(IsXCap, \"Hello how are you\")))"
   ]
  },
  {
   "cell_type": "markdown",
   "metadata": {},
   "source": [
    "## map ()\n",
    "A higher-order function Syntax: map(function, sequence)\n",
    "\n",
    "applies function to each element of sequence and returns the results\n",
    "it can produce a actual list"
   ]
  },
  {
   "cell_type": "code",
   "execution_count": 6,
   "metadata": {},
   "outputs": [],
   "source": [
    "def double(x):\n",
    "    return 2*x"
   ]
  },
  {
   "cell_type": "code",
   "execution_count": 7,
   "metadata": {},
   "outputs": [],
   "source": [
    "def square(x):\n",
    "    return x**2"
   ]
  },
  {
   "cell_type": "code",
   "execution_count": 8,
   "metadata": {},
   "outputs": [],
   "source": [
    "def fst_char(x):\n",
    "    return x[0]"
   ]
  },
  {
   "cell_type": "code",
   "execution_count": 17,
   "metadata": {},
   "outputs": [
    {
     "name": "stdout",
     "output_type": "stream",
     "text": [
      "[4, 6, 8, 10, 12]\n",
      "[16, 25, 36, 49, 64]\n",
      "['H', 'E', 'L', 'L']\n",
      "['H', 'e', 'l', 'l', 'o', ' ', 'h', 'o', 'w', ' ', 'a', 'r', 'e', ' ', 'y', 'o', 'u', ' ', 'd', 'o', 'i', 'n', 'g']\n",
      "[6, 8, 10, 12, 14, 16, 18, 20, 22, 24, 26, 28, 30, 32, 34, 36, 38, 40, 42, 44]\n"
     ]
    }
   ],
   "source": [
    "print(list(map(double,[2,3,4,5,6])))\n",
    "print(list(map(square,[4,5,6,7,8])))\n",
    "print(list(map(fst_char,[\"House\",\"Elephant\",\"Large\",\"League\"])))\n",
    "print(list(map(fst_char,\"Hello how are you doing\")))\n",
    "print(list(map(double,range(3,23))))\n"
   ]
  },
  {
   "cell_type": "markdown",
   "metadata": {},
   "source": [
    "### reduce ()\n",
    "required:\n",
    "from functools import reduce Syntax: reduce(function, sequence)\n",
    "\n",
    "it is continunally applies and evaluate the sequence and returns a single value."
   ]
  },
  {
   "cell_type": "code",
   "execution_count": 18,
   "metadata": {},
   "outputs": [],
   "source": [
    "from functools import reduce\n",
    "def add(a,b):\n",
    "    return a+b"
   ]
  },
  {
   "cell_type": "code",
   "execution_count": 24,
   "metadata": {},
   "outputs": [],
   "source": [
    "def multiply(a,b):\n",
    "    return a*b"
   ]
  },
  {
   "cell_type": "code",
   "execution_count": null,
   "metadata": {},
   "outputs": [],
   "source": []
  },
  {
   "cell_type": "code",
   "execution_count": 25,
   "metadata": {},
   "outputs": [
    {
     "name": "stdout",
     "output_type": "stream",
     "text": [
      "720\n",
      "21\n",
      "Hello how are you\n"
     ]
    }
   ],
   "source": [
    "print(reduce(multiply,range(1,7)))\n",
    "print(reduce(add,range(1,7)))\n",
    "print(reduce(add,[\"Hello\",\" how\",\" are\",\" you\"]))\n"
   ]
  },
  {
   "cell_type": "markdown",
   "metadata": {},
   "source": [
    "## Assignment\n",
    "write a python custom code to computes the sum of a list of numbers input an arbitrary values list of 0 or more.\n",
    "\n",
    "then convert the same logic using built-in functions of python using sum() and reduce()"
   ]
  },
  {
   "cell_type": "code",
   "execution_count": null,
   "metadata": {},
   "outputs": [
    {
     "name": "stdout",
     "output_type": "stream",
     "text": [
      "28\n"
     ]
    },
    {
     "data": {
      "text/plain": [
       "28"
      ]
     },
     "execution_count": 13,
     "metadata": {},
     "output_type": "execute_result"
    }
   ],
   "source": [
    "def addVal(i,j):\n",
    "    return i + j\n",
    "\n",
    "lst = [1,2,3,4,5,6,7]\n",
    "sum1 = 0\n",
    "for i in lst:\n",
    "    sum1 += i\n",
    "print(sum1)\n",
    "\n",
    "#print(sum(lst))\n",
    "reduce(addVa l,lst)"
   ]
  },
  {
   "cell_type": "code",
   "execution_count": 27,
   "metadata": {},
   "outputs": [
    {
     "data": {
      "text/plain": [
       "4"
      ]
     },
     "execution_count": 27,
     "metadata": {},
     "output_type": "execute_result"
    }
   ],
   "source": [
    "def gcd(a,b):\n",
    "    while b != 0:\n",
    "        a, b = b, a%b\n",
    "    return a\n",
    "\n",
    "gcd(48,20)\n"
   ]
  }
 ],
 "metadata": {
  "kernelspec": {
   "display_name": "Python 3",
   "language": "python",
   "name": "python3"
  },
  "language_info": {
   "codemirror_mode": {
    "name": "ipython",
    "version": 3
   },
   "file_extension": ".py",
   "mimetype": "text/x-python",
   "name": "python",
   "nbconvert_exporter": "python",
   "pygments_lexer": "ipython3",
   "version": "3.12.2"
  }
 },
 "nbformat": 4,
 "nbformat_minor": 2
}
