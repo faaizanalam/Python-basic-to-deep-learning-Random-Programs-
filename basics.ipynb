{
 "cells": [
  {
   "cell_type": "markdown",
   "metadata": {},
   "source": [
    "# Python Basics\n",
    "Starting out with some basic python Data structures\n"
   ]
  },
  {
   "cell_type": "markdown",
   "metadata": {},
   "source": [
    "### Variable and Data types in Python"
   ]
  },
  {
   "cell_type": "code",
   "execution_count": 2,
   "metadata": {},
   "outputs": [
    {
     "name": "stdout",
     "output_type": "stream",
     "text": [
      "123 23.3 Hello True\n"
     ]
    }
   ],
   "source": [
    "a = 123\n",
    "b = 23.3\n",
    "c = \"Hello\"\n",
    "d = True\n",
    "\n",
    "\n",
    "print(a,b,c,d)"
   ]
  },
  {
   "cell_type": "markdown",
   "metadata": {},
   "source": [
    "#### Arthematic Operations"
   ]
  },
  {
   "cell_type": "code",
   "execution_count": 3,
   "metadata": {},
   "outputs": [
    {
     "name": "stdout",
     "output_type": "stream",
     "text": [
      "a + b =  70\n",
      "a - b =  -10\n",
      "a / b =  0.75\n",
      "a * b =  1200\n",
      "a ^ b =  54\n",
      "a % b =  30\n"
     ]
    }
   ],
   "source": [
    "a = 30\n",
    "b = 40\n",
    "\n",
    "print(\"a + b = \", a+b)\n",
    "print(\"a - b = \", a-b)\n",
    "print(\"a / b = \", a/b)\n",
    "print(\"a * b = \", a*b)\n",
    "print(\"a ^ b = \", a^b)\n",
    "print(\"a % b = \", a%b)"
   ]
  },
  {
   "cell_type": "markdown",
   "metadata": {},
   "source": [
    "### Lists in Python\n",
    "A list is collection that is ordered,  changeable, and can be duplicated. e.g., [\"Abc\", 1, 1.0,'a']."
   ]
  },
  {
   "cell_type": "code",
   "execution_count": 1,
   "metadata": {},
   "outputs": [
    {
     "name": "stdout",
     "output_type": "stream",
     "text": [
      "[23, 34, 56, 67, 888, 8]\n",
      "[23.4, 55.6, 65.4, 34.5]\n",
      "['HEllo', 'Ola']\n",
      "[True, False, True]\n",
      "[12, 34.5, 4.3, 'HEllo', True]\n",
      "[12, 34.5, 4.3, 'HEllo', True, 44]\n",
      "4.3\n",
      "[(23, 23.4, 'HEllo', True), (34, 55.6, 'Ola', False)]\n",
      "[34, 56, 67, 888, 8]\n"
     ]
    }
   ],
   "source": [
    "int_lst = [23,34,56,67,888,8]\n",
    "float_lst = [23.4,55.6,65.4,34.5]\n",
    "str_lst = [\"HEllo\",\"Ola\"]\n",
    "bool_lst = [True,False, True]\n",
    "mix_lst = [12,34.5,4.3,\"HEllo\",True]\n",
    "\n",
    "print(int_lst)\n",
    "print(float_lst)\n",
    "print(str_lst)\n",
    "print(bool_lst)\n",
    "print(mix_lst)\n",
    "mix_lst.append(44)\n",
    "print(mix_lst)\n",
    "\n",
    "# Accessing a certain index of a list is same as accessing an array\n",
    "\n",
    "print(mix_lst[2])\n",
    "new_lst=list(zip(int_lst,float_lst,str_lst,bool_lst))\n",
    "print(new_lst)\n",
    "int_lst.remove(23)\n",
    "print(int_lst)\n",
    "#int_lst.add(32) ------won't execute"
   ]
  },
  {
   "cell_type": "markdown",
   "metadata": {},
   "source": [
    "### Tupples in Python\n",
    " A tuple is a collection that is ordered, unchangeable, and can be duplicated. e.g., (\"Abc\", 1, 1.0, 'a').\n"
   ]
  },
  {
   "cell_type": "code",
   "execution_count": 10,
   "metadata": {},
   "outputs": [
    {
     "name": "stdout",
     "output_type": "stream",
     "text": [
      "('Ola', 1.2, 4, True)\n"
     ]
    }
   ],
   "source": [
    "tupp = (\"Ola\",1.2,4,True)\n",
    "print(tupp)\n",
    "\n",
    "#tupp[3] = False     #---- Error 'tuple' object does not support item assignment"
   ]
  },
  {
   "cell_type": "markdown",
   "metadata": {},
   "source": [
    "### Sets in Python \n",
    "A set is a collection that is unordered, unchangeable*, and contains unique elements only. e.g.,  {\"Abc\", 1, 1.0, 'a'}.\n",
    " unchangable : items cannot be changed after a set is created but we can add or remove items"
   ]
  },
  {
   "cell_type": "code",
   "execution_count": 31,
   "metadata": {},
   "outputs": [
    {
     "name": "stdout",
     "output_type": "stream",
     "text": [
      "{True, 34, 55.5, 'Faizan', 45}\n",
      "{True, 34, 77, 55.5, 'Faizan', 45}\n"
     ]
    }
   ],
   "source": [
    "sets = {\"Faizan\", 45, 55.5, 34, 45, True}\n",
    "print(sets)\n",
    "sets.add(77)\n",
    "print(sets)\n"
   ]
  },
  {
   "cell_type": "markdown",
   "metadata": {},
   "source": [
    "### Dictionary in Python\n",
    " keys and values are associated with each other using a colon : and each pair is separated using a comma , {key:value}\n"
   ]
  },
  {
   "cell_type": "code",
   "execution_count": 41,
   "metadata": {},
   "outputs": [
    {
     "name": "stdout",
     "output_type": "stream",
     "text": [
      "Shezam\n",
      "19\n",
      "A\n",
      "Faizan\n"
     ]
    }
   ],
   "source": [
    "dictry = {\"Dept_CS\": {\"Student Name\": [\"Sania\",\"Fahad\",\"Shezam\",\"Samar\"],\n",
    "                   \"Class Ids\": [12,13,14,15],\n",
    "                   \"Grade\": [\"A+\",\"A\",\"B\",\"A\"]},\n",
    "          \"Dept_AI\": {\"Student Name\": [\"Saba\",\"Farhan\",\"Shahzain\",\"Saleem\"],\n",
    "                   \"Class Ids\": [16,18,19,20],\n",
    "                   \"Grade\": [\"C\",\"A+\",\"B\",\"B\"]}}\n",
    "\n",
    "print(dictry[\"Dept_CS\"][\"Student Name\"][2])\n",
    "print(dictry[\"Dept_AI\"][\"Class Ids\"][2])\n",
    "\n",
    "dictry[\"Dept_AI\"][\"Grade\"][2] = \"A\"\n",
    "print(dictry[\"Dept_AI\"][\"Grade\"][2])\n",
    "\n",
    "dictry[\"Dept_CS\"][\"Student Name\"] = \"Faizan\"\n",
    "print(dictry[\"Dept_CS\"][\"Student Name\"])"
   ]
  },
  {
   "cell_type": "markdown",
   "metadata": {},
   "source": [
    "### If elif else statement in Python\n",
    "In Python, \"if\" and \"else\" are used to make decisions in your code. Imagine you're deciding what to wear based on the weather. If it's raining, you'll wear a raincoat. If it's sunny, you might choose sunglasses instead.\n",
    "\n",
    "The \"else\" part is used to handle what happens when the initial condition (checking if it's rainy) is not true. Think of it as a fallback plan. If the first condition doesn't match, the \"else\" part tells the program what to do instead.\n",
    "\n",
    "\"elif\" stands for \"else if\" and allows us to check multiple conditions one after another. It’s used when you have more than two possible choices. Instead of just having one fallback plan with \"else\", \"elif\" lets you check additional conditions.\n",
    "\n",
    "You can have multiple \"elif\", and all are checked sequentially. Whichever is checked to be true, the ones after it are then not checked at all"
   ]
  },
  {
   "cell_type": "code",
   "execution_count": 3,
   "metadata": {},
   "outputs": [
    {
     "name": "stdout",
     "output_type": "stream",
     "text": [
      "Weather is Sunny\n"
     ]
    },
    {
     "data": {
      "text/plain": [
       "\"   \\nOperator\\tWhat does it evaluate\\tResults\\na == b\\tif a equals b\\tFalse\\na != b\\tif a doesn't equal b\\tTrue\\na < b\\tif is less than b\\tTrue\\na > b\\tif greater than b\\tFalse\\nc and d\\tif both c and d are True\\tFalse\\nc or d\\tif either c or d is True\\tTrue\\nnot c\\treturn the opposite of c\\tFalse\\n\""
      ]
     },
     "execution_count": 3,
     "metadata": {},
     "output_type": "execute_result"
    }
   ],
   "source": [
    "weather = \"Sunny\"\n",
    "if weather == \"Rainny\":\n",
    "    print(\"Weather is rainny\")\n",
    "elif weather == \"Cloudy\":\n",
    "    print(\"Weather is Cloudy\")\n",
    "else:\n",
    "    print(\"Weather is Sunny\")\n",
    "    \n",
    "\"\"\"   \n",
    "Operator\tWhat does it evaluate\tResults\n",
    "a == b\tif a equals b\tFalse\n",
    "a != b\tif a doesn't equal b\tTrue\n",
    "a < b\tif is less than b\tTrue\n",
    "a > b\tif greater than b\tFalse\n",
    "c and d\tif both c and d are True\tFalse\n",
    "c or d\tif either c or d is True\tTrue\n",
    "not c\treturn the opposite of c\tFalse\n",
    "\"\"\""
   ]
  },
  {
   "cell_type": "markdown",
   "metadata": {},
   "source": [
    "### Loops in Python\n",
    "First understand the range function\n",
    "single argument:\n",
    "range(j) output: 0,1,2,3...., j-1\n",
    "\n",
    "for j in range(5): print(j) output: 0,1,2,3,4\n",
    "\n",
    "two arguments:\n",
    "range(i, j) output: i, i+1, i+2,...., j-1\n",
    "\n",
    "for j in range(2, 5): print(j) output: 2,3,4\n",
    "\n",
    "three arguments:\n",
    "range(i, j, k) output: i, i+k, i+2k,...., j-1 for j in range(2, 10, 2): print(j) output: 2,4,6,8\n",
    "\n"
   ]
  },
  {
   "cell_type": "code",
   "execution_count": 4,
   "metadata": {},
   "outputs": [
    {
     "name": "stdout",
     "output_type": "stream",
     "text": [
      "0\n",
      "1\n",
      "2\n",
      "3\n",
      "4\n"
     ]
    }
   ],
   "source": [
    "for i in range(5):\n",
    "    print(i)"
   ]
  },
  {
   "cell_type": "markdown",
   "metadata": {},
   "source": [
    "### range(start,stop,step)"
   ]
  },
  {
   "cell_type": "code",
   "execution_count": 5,
   "metadata": {},
   "outputs": [
    {
     "name": "stdout",
     "output_type": "stream",
     "text": [
      "1\n",
      "3\n",
      "5\n",
      "7\n",
      "9\n",
      "11\n"
     ]
    }
   ],
   "source": [
    "for i in range(1,12,2):\n",
    "    print(i)"
   ]
  },
  {
   "cell_type": "markdown",
   "metadata": {},
   "source": [
    "### \"For\" loop (Count controlled loop)\n",
    "A \"for\" loop is used to iterate over a sequence (like a list, tuple, or string) and execute a block of code for each item in that sequence."
   ]
  },
  {
   "cell_type": "code",
   "execution_count": 6,
   "metadata": {},
   "outputs": [
    {
     "name": "stdout",
     "output_type": "stream",
     "text": [
      "0\n",
      "1\n",
      "2\n",
      "3\n",
      "4\n",
      "5\n",
      "6\n",
      "7\n",
      "8\n"
     ]
    }
   ],
   "source": [
    "for i in range(9):\n",
    "    print(i)\n"
   ]
  },
  {
   "cell_type": "code",
   "execution_count": 7,
   "metadata": {},
   "outputs": [
    {
     "name": "stdout",
     "output_type": "stream",
     "text": [
      "1\n",
      "2\n",
      "3\n",
      "4\n",
      "5\n",
      "6\n",
      "7\n",
      "8\n",
      "9\n",
      "10\n"
     ]
    }
   ],
   "source": [
    "lst = [1,2,3,4,5,6,7,8,9,10]\n",
    "for i in lst:\n",
    "    print(i)\n",
    "    "
   ]
  },
  {
   "cell_type": "code",
   "execution_count": 9,
   "metadata": {},
   "outputs": [
    {
     "name": "stdout",
     "output_type": "stream",
     "text": [
      "For itteration  0  of outer loop i x h x g =  0\n",
      "For itteration  0  of outer loop i x h x g =  0\n",
      "For itteration  0  of outer loop i x h x g =  0\n",
      "For itteration  0  of outer loop i x h x g =  0\n",
      "For itteration  0  of outer loop i x h x g =  0\n",
      "For itteration  0  of outer loop i x h x g =  0\n",
      "For itteration  0  of outer loop i x h x g =  0\n",
      "For itteration  0  of outer loop i x h x g =  0\n",
      "For itteration  0  of outer loop i x h x g =  0\n",
      "For itteration  0  of outer loop i x h x g =  0\n",
      "For itteration  0  of outer loop i x h x g =  0\n",
      "For itteration  0  of outer loop i x h x g =  0\n",
      "For itteration  0  of outer loop i x h x g =  0\n",
      "For itteration  0  of outer loop i x h x g =  0\n",
      "For itteration  0  of outer loop i x h x g =  0\n",
      "For itteration  0  of outer loop i x h x g =  0\n",
      "For itteration  0  of outer loop i x h x g =  0\n",
      "For itteration  0  of outer loop i x h x g =  0\n",
      "For itteration  0  of outer loop i x h x g =  0\n",
      "For itteration  0  of outer loop i x h x g =  0\n",
      "For itteration  1  of outer loop i x h x g =  0\n",
      "For itteration  1  of outer loop i x h x g =  0\n",
      "For itteration  1  of outer loop i x h x g =  0\n",
      "For itteration  1  of outer loop i x h x g =  0\n",
      "For itteration  1  of outer loop i x h x g =  0\n",
      "For itteration  1  of outer loop i x h x g =  0\n",
      "For itteration  1  of outer loop i x h x g =  1\n",
      "For itteration  1  of outer loop i x h x g =  2\n",
      "For itteration  1  of outer loop i x h x g =  3\n",
      "For itteration  1  of outer loop i x h x g =  4\n",
      "For itteration  1  of outer loop i x h x g =  0\n",
      "For itteration  1  of outer loop i x h x g =  2\n",
      "For itteration  1  of outer loop i x h x g =  4\n",
      "For itteration  1  of outer loop i x h x g =  6\n",
      "For itteration  1  of outer loop i x h x g =  8\n",
      "For itteration  1  of outer loop i x h x g =  0\n",
      "For itteration  1  of outer loop i x h x g =  3\n",
      "For itteration  1  of outer loop i x h x g =  6\n",
      "For itteration  1  of outer loop i x h x g =  9\n",
      "For itteration  1  of outer loop i x h x g =  12\n",
      "For itteration  2  of outer loop i x h x g =  0\n",
      "For itteration  2  of outer loop i x h x g =  0\n",
      "For itteration  2  of outer loop i x h x g =  0\n",
      "For itteration  2  of outer loop i x h x g =  0\n",
      "For itteration  2  of outer loop i x h x g =  0\n",
      "For itteration  2  of outer loop i x h x g =  0\n",
      "For itteration  2  of outer loop i x h x g =  2\n",
      "For itteration  2  of outer loop i x h x g =  4\n",
      "For itteration  2  of outer loop i x h x g =  6\n",
      "For itteration  2  of outer loop i x h x g =  8\n",
      "For itteration  2  of outer loop i x h x g =  0\n",
      "For itteration  2  of outer loop i x h x g =  4\n",
      "For itteration  2  of outer loop i x h x g =  8\n",
      "For itteration  2  of outer loop i x h x g =  12\n",
      "For itteration  2  of outer loop i x h x g =  16\n",
      "For itteration  2  of outer loop i x h x g =  0\n",
      "For itteration  2  of outer loop i x h x g =  6\n",
      "For itteration  2  of outer loop i x h x g =  12\n",
      "For itteration  2  of outer loop i x h x g =  18\n",
      "For itteration  2  of outer loop i x h x g =  24\n"
     ]
    }
   ],
   "source": [
    "for i in range(3):\n",
    "    for h in range(4):\n",
    "        for g in range(5):\n",
    "            print(\"For itteration \",i ,\" of outer loop i x h x g = \", i*h*g)"
   ]
  },
  {
   "cell_type": "markdown",
   "metadata": {},
   "source": [
    "### While Loop (Condition controlled loop)\n",
    "A \"while\" loop continues to execute a block of code as long as a specified condition is true.\n"
   ]
  },
  {
   "cell_type": "code",
   "execution_count": 10,
   "metadata": {},
   "outputs": [
    {
     "name": "stdout",
     "output_type": "stream",
     "text": [
      "7\n",
      "8\n",
      "9\n",
      "10\n"
     ]
    }
   ],
   "source": [
    "num = 7\n",
    "while num <=10:\n",
    "    print(num)\n",
    "    num += 1\n",
    "    "
   ]
  },
  {
   "cell_type": "code",
   "execution_count": 26,
   "metadata": {},
   "outputs": [
    {
     "name": "stdout",
     "output_type": "stream",
     "text": [
      "num 1 =  2 num 2 =  4\n",
      "num 1 =  2 num 2 =  3\n",
      "num 1 =  2 num 2 =  2\n",
      "num 1 =  2 num 2 =  1\n",
      "num 1 =  2 num 2 =  0\n"
     ]
    }
   ],
   "source": [
    "num1 = 3\n",
    "num2 = 4\n",
    "while num1 >= 0:\n",
    "    num1 -= 1\n",
    "    while num2 >= 0:\n",
    "        print(\"num 1 = \", num1, \"num 2 = \", num2)\n",
    "        num2 -=1"
   ]
  },
  {
   "cell_type": "markdown",
   "metadata": {},
   "source": [
    "## Solving Random Coding Questions"
   ]
  },
  {
   "cell_type": "code",
   "execution_count": 39,
   "metadata": {},
   "outputs": [
    {
     "name": "stdout",
     "output_type": "stream",
     "text": [
      "d\n"
     ]
    }
   ],
   "source": [
    "#Define a function that takes text as an input and reverses it.\n",
    "text = \"HelloWorld\"\n",
    "\n",
    "def revFunc(inp):\n",
    "    return inp[::-1]\n",
    "\n",
    "\"\"\"\"\n",
    "sequence[start:end:step]\n",
    "start: The starting index (default is the beginning of the sequence).\n",
    "end: The ending index (default is the end of the sequence).\n",
    "step: The step size, which tells how many elements to skip (default is 1).\n",
    "\n",
    "Explanation of inp[::-1]:\n",
    "inp: The input string or sequence.\n",
    "start: Not provided, so it defaults to the end of the sequence.\n",
    "end: Not provided, so it defaults to the beginning of the sequence.\n",
    "step: -1, meaning the slice moves backwards by 1 element at a time\n",
    "\n",
    "\"\"\"\n",
    "revFunc(text)\n",
    "\n",
    "#print(text[1:8:3])\n",
    "#print(text[-1])\n",
    "\n"
   ]
  },
  {
   "cell_type": "code",
   "execution_count": 8,
   "metadata": {},
   "outputs": [
    {
     "name": "stdout",
     "output_type": "stream",
     "text": [
      "Word is Plaindrome\n"
     ]
    }
   ],
   "source": [
    "#Write a function that checks if a given word is a palindrome.\n",
    "\"\"\"\n",
    "#inp = str(input(\"Enter a word\"))\n",
    "str = \"text\"\n",
    "str1 = \"OLLO\"\n",
    "le = len(str1)\n",
    "for i in range(le):\n",
    "    if str1[i] == str1[-(i+1)]:\n",
    "        continue\n",
    "    else:\n",
    "        print(\"Input is not plaindrome\")\n",
    "        break\n",
    "print(\"Input is Plaindrome\")\n",
    "\n",
    "\"\"\"\n",
    "word = \"Ollo\"\n",
    "word = word.lower()\n",
    "\n",
    "wordRev = word[::-1]\n",
    "\n",
    "if(word == wordRev):\n",
    "    print(\"Word is Plaindrome\")\n",
    "else:\n",
    "    print(\"Word is not plaindrome\")\n"
   ]
  },
  {
   "cell_type": "code",
   "execution_count": 10,
   "metadata": {},
   "outputs": [
    {
     "name": "stdout",
     "output_type": "stream",
     "text": [
      "-2\n"
     ]
    }
   ],
   "source": [
    "## Lambda function \n",
    "# --- In Python, a lambda function is a small, anonymous function defined using the lambda keyword.\n",
    "# Lambda functions are also sometimes referred to as anonymous functions or lambda expressions.     \n",
    "#The primary purpose of lambda functions is to create small, one-time-use functions without \n",
    "# formally defining a full function using the def keyword.\n",
    "\n",
    "sub = lambda a,b: a - b\n",
    "c = sub(4,6)\n",
    "print(c)\n"
   ]
  },
  {
   "cell_type": "code",
   "execution_count": 18,
   "metadata": {},
   "outputs": [
    {
     "name": "stdout",
     "output_type": "stream",
     "text": [
      "<class 'dict'>\n",
      "<class 'set'>\n",
      "{34, 'HEllO', 55.4}\n",
      "{3, 4, 5, 6}\n",
      "{1, 2, 3, 4, 5, 6, 7, 8}\n",
      "{1, 2}\n"
     ]
    }
   ],
   "source": [
    "# creating empty set and empty dictionary in Python\n",
    "s = {}\n",
    "print(type(s))   # ----- using curly brackets creates a dictionary instead\n",
    "\n",
    "d = set()\n",
    "print(type(d))\n",
    "\n",
    "\n",
    "#adding elements to an empty set\n",
    "d.add(34)\n",
    "d.add(55.4)\n",
    "d.add(\"HEllO\")\n",
    "print(d)\n",
    "\n",
    "#intersection of two sets in Python \n",
    "set1 = {1,2,3,4,5,6}\n",
    "set2 = {3,4,5,6,7,8}\n",
    "\n",
    "intersection_set = set1.intersection(set2)\n",
    "print(intersection_set)\n",
    "union_set = set1.union(set2)\n",
    "print(union_set)\n",
    "difference_set = set1.difference(set2)\n",
    "print(difference_set)\n"
   ]
  },
  {
   "cell_type": "code",
   "execution_count": 23,
   "metadata": {},
   "outputs": [
    {
     "name": "stdout",
     "output_type": "stream",
     "text": [
      "[1, 2, 3, 6, 7, 4]\n",
      "[1, 2, 3, 6, 7, 4, 4, 5, 6, 0, 90]\n",
      "[1, 2, 3, 7, 4, 4, 5, 6, 0, 90]\n"
     ]
    }
   ],
   "source": [
    "## Explain the difference between append() and extend() methods in Python lists\n",
    "lst1 = [1, 2, 3, 6, 7]\n",
    "lst2 = [4, 5, 6, 0, 90]\n",
    "lst1.append(4) \n",
    "print(lst1)\n",
    "lst1.extend(lst2)  \n",
    "print(lst1)\n",
    "\n",
    "lst1.pop(3)\n",
    "print(lst1)\n"
   ]
  },
  {
   "cell_type": "code",
   "execution_count": 24,
   "metadata": {},
   "outputs": [
    {
     "name": "stdout",
     "output_type": "stream",
     "text": [
      "[1, 8, 27, 64, 125, 216]\n"
     ]
    }
   ],
   "source": [
    "#list comprehension in Python\n",
    "squares = [x**3 for x in range(1,7)]\n",
    "print(squares)"
   ]
  },
  {
   "cell_type": "code",
   "execution_count": 26,
   "metadata": {},
   "outputs": [
    {
     "name": "stdout",
     "output_type": "stream",
     "text": [
      "[4, 5, 6]\n"
     ]
    }
   ],
   "source": [
    "#Given two lists, write a function that returns the elements that are common to both lists.\n",
    "lst1 = [1,2,4,5,6,7]\n",
    "lst2 = [3,4,5,6,8,9]\n",
    "common_lst = list(set(lst1) & set(lst2))\n",
    "print(common_lst)"
   ]
  },
  {
   "cell_type": "code",
   "execution_count": 28,
   "metadata": {},
   "outputs": [
    {
     "data": {
      "text/plain": [
       "{'Merged Dictionary : ': {'a': 1, 'b': 3, 'c': 4}}"
      ]
     },
     "execution_count": 28,
     "metadata": {},
     "output_type": "execute_result"
    }
   ],
   "source": [
    "#merging two dictionaries \n",
    "def merge_dict(dict1,dict2):\n",
    "    merged_dict = dict1.copy()\n",
    "    merged_dict.update(dict2)\n",
    "    return {\"Merged Dictionary : \": merged_dict}\n",
    "\n",
    "\n",
    "dict1 = {'a': 1, 'b': 2}\n",
    "dict2 = {'b': 3, 'c': 4}\n",
    "merge_dict(dict1,dict2)\n"
   ]
  },
  {
   "cell_type": "code",
   "execution_count": 29,
   "metadata": {},
   "outputs": [
    {
     "data": {
      "text/plain": [
       "{'Mean ': 4.5, 'Median ': 4.5, 'Mode ': 1}"
      ]
     },
     "execution_count": 29,
     "metadata": {},
     "output_type": "execute_result"
    }
   ],
   "source": [
    "#Given a list of numbers, write a function to compute the mean, median, and mode.\n",
    "num_lst = [1,2,3,4,5,6,7,8]\n",
    "from statistics import mean, median, mode\n",
    "\n",
    "def num_op(numbers):\n",
    "    return{\n",
    "        \"Mean \": mean(numbers),\n",
    "        \"Median \": median(numbers),\n",
    "        \"Mode \": mode(numbers)\n",
    "    }\n",
    "\n",
    "num_op(num_lst)"
   ]
  }
 ],
 "metadata": {
  "kernelspec": {
   "display_name": "Python 3",
   "language": "python",
   "name": "python3"
  },
  "language_info": {
   "codemirror_mode": {
    "name": "ipython",
    "version": 3
   },
   "file_extension": ".py",
   "mimetype": "text/x-python",
   "name": "python",
   "nbconvert_exporter": "python",
   "pygments_lexer": "ipython3",
   "version": "3.12.2"
  }
 },
 "nbformat": 4,
 "nbformat_minor": 2
}
