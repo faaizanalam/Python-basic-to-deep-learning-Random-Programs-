{
 "cells": [
  {
   "cell_type": "code",
   "execution_count": 1,
   "metadata": {},
   "outputs": [
    {
     "name": "stdout",
     "output_type": "stream",
     "text": [
      "<class 'int'>\n",
      "<class 'float'>\n",
      "<class 'str'>\n",
      "<class 'bool'>\n"
     ]
    }
   ],
   "source": [
    "A = 34 #integer\n",
    "B = 23.5 #float\n",
    "C = \"String\"  #String\n",
    "D = True #Boolean\n",
    "print(type(A))\n",
    "print(type(B))\n",
    "print(type(C))\n",
    "print(type(D))"
   ]
  },
  {
   "cell_type": "code",
   "execution_count": 2,
   "metadata": {},
   "outputs": [
    {
     "name": "stdout",
     "output_type": "stream",
     "text": [
      "trin\n",
      "tig\n"
     ]
    },
    {
     "data": {
      "text/plain": [
       "'gnirtS'"
      ]
     },
     "execution_count": 2,
     "metadata": {},
     "output_type": "execute_result"
    }
   ],
   "source": [
    "#String-----------------\n",
    "A_str = C\n",
    "print(A_str[1:5])\n",
    "print(A_str[1:6:2])   #[start:stop:step]\n",
    "A_str[::-1]  #reverses String"
   ]
  },
  {
   "cell_type": "code",
   "execution_count": 3,
   "metadata": {},
   "outputs": [
    {
     "name": "stdout",
     "output_type": "stream",
     "text": [
      "[34, 55, 7.8, 12.5, 'Someone', False, True, 400]\n",
      "[55, 7.8, 12.5, 'Someone', False, True, 400]\n",
      "[55, 7.8, 12.5, 'Someone', False, True]\n",
      "[7.8, 'Someone']\n",
      "Reversing a list [True, False, 'Someone', 12.5, 7.8, 55]\n",
      "[True, False, 'Someone', 12.5, 7.8, 55]\n",
      "[True, False, 'Someone', 12.5, 7.8, 55, 'hello', 98, 33.4]\n"
     ]
    },
    {
     "data": {
      "text/plain": [
       "1"
      ]
     },
     "execution_count": 3,
     "metadata": {},
     "output_type": "execute_result"
    }
   ],
   "source": [
    "#List------------------\n",
    "lst = [34, 55, 7.8, 12.5, \"Someone\", False, True]\n",
    "lst\n",
    "# list operations\n",
    "lst.append(400) # adds an element at the end of a list\n",
    "print(lst)\n",
    "\n",
    "lst.remove(34)\n",
    "print(lst) #removes an element from a list\n",
    "\n",
    "lst.pop()\n",
    "print(lst) #pops/removes the element at specified index in a list last element by default if no index is given\n",
    "\n",
    "#slice [start:stop:step], like string slicing is also supported in lists\n",
    "print(lst[1:4:2])\n",
    "print(\"Reversing a list\",lst[::-1])\n",
    "\n",
    "lst.reverse() #reverses a list\n",
    "print(lst)\n",
    "\n",
    "#min(lst) #Type error! because list conatains multiple datatypes\n",
    "#max(lst) #minimum and maximum in a list\n",
    "#print(lst)\n",
    "\n",
    "lst_2 = [\"hello\", 98, 33.4]\n",
    "res = lst + lst_2    #concatinates lists\n",
    "print(res)\n",
    "\n",
    "lst.count(\"Someone\") #counts the number of \n",
    "\n"
   ]
  },
  {
   "cell_type": "code",
   "execution_count": 4,
   "metadata": {},
   "outputs": [],
   "source": [
    "#Dictionaries \n",
    "dict = {\n",
    "    \"dict1\": [\"Hello\",\"Ola\",123],\n",
    "    \"dict2\": [\"Hope\",\"Someone\",23.5],\n",
    "    \"dict3\": \"People\"\n",
    "    \n",
    "}"
   ]
  },
  {
   "cell_type": "code",
   "execution_count": 5,
   "metadata": {},
   "outputs": [
    {
     "data": {
      "text/plain": [
       "43"
      ]
     },
     "execution_count": 5,
     "metadata": {},
     "output_type": "execute_result"
    }
   ],
   "source": [
    "dict = {\n",
    "    \"dict1\": {\n",
    "            \"dict_inner1\": {\n",
    "                \"dict_leaf1\": [123,456,789],\n",
    "                \"dict_leaf2\": [1.5,2.5,3.5]\n",
    "            },\n",
    "            \"dict_inner2\": {\n",
    "                \"dict_leaf3\": [12,43,1],\n",
    "                \"dict_leaf4\": [15,25,35]\n",
    "            }\n",
    "    },\n",
    "            \n",
    "    \"dict2\": \n",
    "            {\n",
    "            \"dict_inner3\" : {\n",
    "                \"dict_leaf12\": [1,2,3],\n",
    "                \"dict_leaf22\": [50,28,5]\n",
    "            },\n",
    "            \"dict_inner4\": {\n",
    "                \"dict_leaf33\": [90,81,212],\n",
    "                \"dict_leaf44\": [10,20,30]\n",
    "            }\n",
    "            }\n",
    "}\n",
    "\n",
    "\n",
    "dict[\"dict1\"][\"dict_inner2\"][\"dict_leaf3\"][1]"
   ]
  },
  {
   "cell_type": "code",
   "execution_count": 6,
   "metadata": {},
   "outputs": [
    {
     "name": "stdout",
     "output_type": "stream",
     "text": [
      "{1, 2, 3}\n",
      "{4, 5}\n",
      "{1, 2, 3, 4, 5, 6, 7, 8, 9, 10}\n"
     ]
    }
   ],
   "source": [
    "set1 = {1,2,3,4,5}\n",
    "set2 = {1,2,3,6,7,8,9,10}\n",
    "print(set1.intersection(set2))\n",
    "print(set1.difference(set2))\n",
    "print(set1.union(set2))"
   ]
  },
  {
   "cell_type": "code",
   "execution_count": 7,
   "metadata": {},
   "outputs": [
    {
     "name": "stdout",
     "output_type": "stream",
     "text": [
      "Sum is greater than 35\n"
     ]
    }
   ],
   "source": [
    "inp = 50\n",
    "sum = 0\n",
    "\n",
    "if inp <= 0:\n",
    "    print(\"Input should be greater than 0\")\n",
    "\n",
    "elif inp > 0:\n",
    "    for i in range(inp):\n",
    "        sum += i\n",
    "\n",
    "    if sum > 35:\n",
    "        print(\"Sum is greater than 35\")  \n",
    "    elif sum <35:\n",
    "        print(\"Sum is less than 35\")\n",
    "    else:\n",
    "        print(\"\")  \n",
    "else:\n",
    "    print(\"Input should be an Intger\")"
   ]
  },
  {
   "cell_type": "code",
   "execution_count": 8,
   "metadata": {},
   "outputs": [
    {
     "name": "stdout",
     "output_type": "stream",
     "text": [
      "how is the weather today?\n",
      "HOW IS THE WEATHER TODAY?\n",
      "How is the weather today?\n"
     ]
    }
   ],
   "source": [
    "def sum(inp1,inp2):\n",
    "    print(inp1 + inp2)\n",
    "    \n",
    "    \n",
    "def IsLower(word):\n",
    "    return word.lower()\n",
    "    \n",
    "def IsUpper(word):\n",
    "    return word.upper()\n",
    "def Iscapital(word):\n",
    "    return word.capitalize()\n",
    "    \n",
    "str = \"How is the Weather today?\"\n",
    "print(IsLower(str))\n",
    "print(IsUpper(str))\n",
    "print(Iscapital(str))"
   ]
  },
  {
   "cell_type": "code",
   "execution_count": 1,
   "metadata": {},
   "outputs": [
    {
     "name": "stdout",
     "output_type": "stream",
     "text": [
      "length of name is:  4\n"
     ]
    }
   ],
   "source": [
    "name = input(\"Enter your name: \")\n",
    "print(\"length of name is: \", len(name))"
   ]
  },
  {
   "cell_type": "code",
   "execution_count": 9,
   "metadata": {},
   "outputs": [
    {
     "name": "stdout",
     "output_type": "stream",
     "text": [
      "64\n"
     ]
    }
   ],
   "source": [
    "# Lambda and Map------Functions\n",
    "cube = lambda x: x**3\n",
    "print(cube(4))\n",
    "\n",
    "#table = lambda y: \n",
    "#    for i in range(10):\n",
    "#        print(y,\" x \" {i+1} ,y * (i + 1))\n",
    "#table(9)\n",
    "\n"
   ]
  },
  {
   "cell_type": "code",
   "execution_count": 10,
   "metadata": {},
   "outputs": [
    {
     "name": "stdout",
     "output_type": "stream",
     "text": [
      "Total Inputs :  4\n",
      "With :  [12, 13, 14, 15]  being the inputs their sum is :\n"
     ]
    },
    {
     "data": {
      "text/plain": [
       "54"
      ]
     },
     "execution_count": 10,
     "metadata": {},
     "output_type": "execute_result"
    }
   ],
   "source": [
    "#Method overloading --- python does not support method overloading. Though this is one way of \n",
    "# implementing the same thing\n",
    "def add(*args):\n",
    "    sum = 0\n",
    "    count =0\n",
    "    lst = []\n",
    "    for i in range(len(args)):\n",
    "        sum += args[i]\n",
    "        lst.append(args[i])\n",
    "        count += 1 \n",
    "    print(\"Total Inputs : \", count)\n",
    "    print(\"With : \",lst, \" being the inputs their sum is :\")\n",
    "    return sum\n",
    "\n",
    "add(12,13,14,15)\n"
   ]
  },
  {
   "cell_type": "code",
   "execution_count": 11,
   "metadata": {},
   "outputs": [
    {
     "name": "stdout",
     "output_type": "stream",
     "text": [
      "Hello my name is Hamid and I am 25 years old\n"
     ]
    }
   ],
   "source": [
    "# Class and Objects\n",
    "\n",
    "# Defines a class named 'Person' which serves as a blueprint for creating objects with shared attributes and methods.\n",
    "class Person():\n",
    "    # Class attribute 'name' is set to \"Hamid\" by default for every object of this class.\n",
    "    name = \"Hamid\"\n",
    "    # Class attribute 'age' is set to 25 by default for every object of this class.\n",
    "    age = 25\n",
    "\n",
    "    # Method to display details about the person; it will access 'name' and 'age' attributes of the instance.\n",
    "    def displayDetail(self):\n",
    "        print(f\"Hello my name is {self.name} and I am {self.age} years old\")  # Corrected syntax\n",
    "\n",
    "# Creates an instance of the 'Person' class named 'p1'.\n",
    "p1 = Person()\n",
    "\n",
    "# Calls the 'displayDetail' method on 'p1', which outputs the details of this 'Person' object.\n",
    "p1.displayDetail()\n"
   ]
  },
  {
   "cell_type": "markdown",
   "metadata": {},
   "source": [
    "### Constructor in Python\n",
    "In Python, a constructor is a special method called __init__() that automatically executes when a new object of a class is created. It is primarily used to initialize the object's attributes with specific values, either provided as arguments or using default values. The __init__() method takes self as the first parameter, which represents the instance being created, and any other parameters needed to set initial values."
   ]
  },
  {
   "cell_type": "code",
   "execution_count": 12,
   "metadata": {},
   "outputs": [],
   "source": [
    "class Person:\n",
    "    def __init__(self, name=\"Hamid\", age=25):\n",
    "        self.name = name\n",
    "        self.age = age\n",
    "#Here, when an object of Person is created, __init__() assigns the \n",
    "# provided name and age values to self.name and self.age. \n",
    "# If no arguments are given, it uses \"Hamid\" and 25 as defaults.\n"
   ]
  },
  {
   "cell_type": "code",
   "execution_count": 13,
   "metadata": {},
   "outputs": [
    {
     "name": "stdout",
     "output_type": "stream",
     "text": [
      "Hello my name is Sultan and I am 30 years old\n",
      "Hello my name is Ali and I am 30 years old\n"
     ]
    }
   ],
   "source": [
    "class Person():\n",
    "    #constructor\n",
    "    def __init__(self, name = \"Sultan\", age = 30):\n",
    "        self.name = name\n",
    "        self.age = age\n",
    "    # Method to display details about the person.\n",
    "    def displayDetail(self):\n",
    "        print(f\"Hello my name is {self.name} and I am {self.age} years old\")\n",
    "        \n",
    "# Creates an instance of the 'Person' class named 'p1' with the default values.  \n",
    "p1 = Person()\n",
    "\n",
    "# Calls the 'displayDetail' method on 'p1', which outputs the details of this 'Person' object.\n",
    "p1.displayDetail()\n",
    "\n",
    "# Creates another instance of the 'Person' class named 'p2' with custom values.\n",
    "p2 = Person(\"Ali\", 30)\n",
    "\n",
    "# Calls the 'displayDetail' method on 'p2', which outputs the details of this 'Person' object.\n",
    "p2.displayDetail()\n"
   ]
  },
  {
   "cell_type": "code",
   "execution_count": 14,
   "metadata": {},
   "outputs": [],
   "source": [
    "#Constructor Overloading\n",
    "class Person():\n",
    "    def __init__(self, *args):\n",
    "        if len(args) == 3:\n",
    "            self.x = args[0]\n",
    "            self.y = args[1]\n",
    "            self.z = args[2]\n",
    "        elif len(args) == 2:\n",
    "            self.x = args[0]\n",
    "            self.y = args[1]\n",
    "        else:\n",
    "            self.x = args[0]\n",
    "    def DisplayVar(self):\n",
    "        print(f\"Value of X is {self.x}\")\n",
    "        print(f\"Value of Y is {self.y}\")\n",
    "        print(f\"Value of Z is {self.z}\")"
   ]
  },
  {
   "cell_type": "markdown",
   "metadata": {},
   "source": [
    "### Inheritance in Python\n",
    "In Python, inheritance is a feature that allows a class (called the child or subclass) to inherit attributes and methods from another class (called the parent or superclass). This enables code reuse, makes it easier to manage, and allows for extending or modifying behavior in subclasses.\n",
    "\n",
    "Key Concepts of Inheritance:\n",
    "Parent Class (Superclass): The class whose properties and methods are inherited.\n",
    "Child Class (Subclass): The class that inherits properties and methods from the parent class."
   ]
  },
  {
   "cell_type": "code",
   "execution_count": 15,
   "metadata": {},
   "outputs": [
    {
     "name": "stdout",
     "output_type": "stream",
     "text": [
      "Animal sound\n",
      "Woof! Woof!\n"
     ]
    }
   ],
   "source": [
    "# Parent Class\n",
    "class Animal:\n",
    "    def __init__(self, name):\n",
    "        self.name = name\n",
    "\n",
    "    def speak(self):\n",
    "        print(\"Animal sound\")\n",
    "\n",
    "# Child Class inheriting from Animal\n",
    "class Dog(Animal):\n",
    "    def speak(self):  # Overriding the speak method\n",
    "        print(\"Woof! Woof!\")\n",
    "\n",
    "# Creating instances\n",
    "a = Animal(\"Generic Animal\")\n",
    "a.speak()  # Output: Animal sound\n",
    "\n",
    "d = Dog(\"Buddy\")\n",
    "d.speak()  # Output: Woof! Woof!\n"
   ]
  },
  {
   "cell_type": "code",
   "execution_count": 16,
   "metadata": {},
   "outputs": [
    {
     "name": "stdout",
     "output_type": "stream",
     "text": [
      "Woof!\n",
      "Animal sound and Meow\n"
     ]
    }
   ],
   "source": [
    "class Animal:\n",
    "    def speak(self):\n",
    "        return \"Animal sound\"\n",
    "\n",
    "class Dog(Animal):\n",
    "    def speak(self):  # Overriding the speak method from Animal\n",
    "        return \"Woof!\"\n",
    "\n",
    "class Cat(Animal):\n",
    "    def speak(self):\n",
    "        return super().speak() + \" and Meow\"  # Using super to call the parent method\n",
    "\n",
    "dog = Dog()\n",
    "cat = Cat()\n",
    "print(dog.speak())  # Output: Woof! (function overriding)\n",
    "print(cat.speak())  # Output: Animal sound and Meow (super keyword used)\n"
   ]
  }
 ],
 "metadata": {
  "kernelspec": {
   "display_name": "Python 3",
   "language": "python",
   "name": "python3"
  },
  "language_info": {
   "codemirror_mode": {
    "name": "ipython",
    "version": 3
   },
   "file_extension": ".py",
   "mimetype": "text/x-python",
   "name": "python",
   "nbconvert_exporter": "python",
   "pygments_lexer": "ipython3",
   "version": "3.12.2"
  }
 },
 "nbformat": 4,
 "nbformat_minor": 2
}
